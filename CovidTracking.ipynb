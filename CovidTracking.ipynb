{
 "cells": [
  {
   "cell_type": "markdown",
   "id": "burning-interaction",
   "metadata": {},
   "source": [
    "***Covid-19 Tracking by State***\n",
    "\n",
    "This briefly demonstrates how the different methods in ctp.py work together to get data from the web, process it, and then graph the history of positive cases and deaths due to Covid-19 in the state of your choice. \n",
    "\n",
    "NOTE: If this is viewed long after the vaccine has been distributed and Covid-19 is no longer relevant, most of the graphs will likely be flat because there has been no change in the recent past. Unfortunately, that is not applicable to the time of me writing this"
   ]
  },
  {
   "cell_type": "code",
   "execution_count": 1,
   "id": "ongoing-boulder",
   "metadata": {},
   "outputs": [],
   "source": [
    "# Import libraries, may be important later\n",
    "\n",
    "import ctp\n",
    "import numpy as np\n",
    "import pandas as pd\n",
    "import matplotlib.pyplot as plt"
   ]
  },
  {
   "cell_type": "code",
   "execution_count": 2,
   "id": "satisfied-measure",
   "metadata": {},
   "outputs": [
    {
     "name": "stdout",
     "output_type": "stream",
     "text": [
      "Date updated\n"
     ]
    }
   ],
   "source": [
    "# Update the data folder to contain the latest data set\n",
    "ctp.UpdateCovidTracking()"
   ]
  },
  {
   "cell_type": "code",
   "execution_count": 3,
   "id": "prompt-jewelry",
   "metadata": {},
   "outputs": [
    {
     "data": {
      "text/html": [
       "<div>\n",
       "<style scoped>\n",
       "    .dataframe tbody tr th:only-of-type {\n",
       "        vertical-align: middle;\n",
       "    }\n",
       "\n",
       "    .dataframe tbody tr th {\n",
       "        vertical-align: top;\n",
       "    }\n",
       "\n",
       "    .dataframe thead th {\n",
       "        text-align: right;\n",
       "    }\n",
       "</style>\n",
       "<table border=\"1\" class=\"dataframe\">\n",
       "  <thead>\n",
       "    <tr style=\"text-align: right;\">\n",
       "      <th></th>\n",
       "      <th>state</th>\n",
       "      <th>positive</th>\n",
       "      <th>death</th>\n",
       "    </tr>\n",
       "    <tr>\n",
       "      <th>date</th>\n",
       "      <th></th>\n",
       "      <th></th>\n",
       "      <th></th>\n",
       "    </tr>\n",
       "  </thead>\n",
       "  <tbody>\n",
       "    <tr>\n",
       "      <th>2021-01-18</th>\n",
       "      <td>AK</td>\n",
       "      <td>50447.0</td>\n",
       "      <td>229.0</td>\n",
       "    </tr>\n",
       "    <tr>\n",
       "      <th>2021-01-18</th>\n",
       "      <td>AL</td>\n",
       "      <td>424028.0</td>\n",
       "      <td>6121.0</td>\n",
       "    </tr>\n",
       "    <tr>\n",
       "      <th>2021-01-18</th>\n",
       "      <td>AR</td>\n",
       "      <td>272263.0</td>\n",
       "      <td>4343.0</td>\n",
       "    </tr>\n",
       "    <tr>\n",
       "      <th>2021-01-18</th>\n",
       "      <td>AS</td>\n",
       "      <td>0.0</td>\n",
       "      <td>0.0</td>\n",
       "    </tr>\n",
       "    <tr>\n",
       "      <th>2021-01-18</th>\n",
       "      <td>AZ</td>\n",
       "      <td>679282.0</td>\n",
       "      <td>11265.0</td>\n",
       "    </tr>\n",
       "  </tbody>\n",
       "</table>\n",
       "</div>"
      ],
      "text/plain": [
       "           state  positive    death\n",
       "date                               \n",
       "2021-01-18    AK   50447.0    229.0\n",
       "2021-01-18    AL  424028.0   6121.0\n",
       "2021-01-18    AR  272263.0   4343.0\n",
       "2021-01-18    AS       0.0      0.0\n",
       "2021-01-18    AZ  679282.0  11265.0"
      ]
     },
     "execution_count": 3,
     "metadata": {},
     "output_type": "execute_result"
    }
   ],
   "source": [
    "# View the most recent data that we have (what we just updated)\n",
    "df = ctp.LoadCTPData(update_first=False)\n",
    "\n",
    "df.head()"
   ]
  },
  {
   "cell_type": "code",
   "execution_count": 4,
   "id": "dependent-rating",
   "metadata": {},
   "outputs": [
    {
     "data": {
      "image/png": "[encoded data removed]",
      "text/plain": [
       "<Figure size 864x432 with 1 Axes>"
      ]
     },
     "metadata": {
      "needs_background": "light"
     },
     "output_type": "display_data"
    },
    {
     "name": "stdout",
     "output_type": "stream",
     "text": [
      "\n",
      "Total COVID-19 positive cases in MA: 473441\n",
      "New COVID-19 positive cases in MA today: 3301\n"
     ]
    }
   ],
   "source": [
    "# Plot the data to show the amount of deaths over time in Massachusetts\n",
    "\n",
    "state = \"MA\"\n",
    "metric = \"positive\" # can be \"death\" for number of deaths or \"positive\" for total positive cases\n",
    "\n",
    "ctp.ShowCovidTracking(state, metric, update_first=False)\n",
    "\n",
    "# get state data\n",
    "idx_state = df.state == state\n",
    "df_current_state = df[idx_state].copy()\n",
    "    \n",
    "# Calculate new and total cases\n",
    "new_cases = df_current_state[metric][0] - df_current_state[metric][1]\n",
    "total_cases = df_current_state[metric][0]\n",
    "\n",
    "\n",
    "# Print the number of cases for the metric    \n",
    "if metric == \"death\":\n",
    "    print(\"\\nTotal COVID-19 deaths in \" + state + \": \" + str(int(df_current_state[metric][0])))\n",
    "    print(\"New COVID-19 deaths in \" + state + \" in the past day: \" + str(int(new_cases)))\n",
    "else:\n",
    "    print(\"\\nTotal COVID-19 positive cases in \" + state + \": \" + str(int(df_current_state[metric][0])))\n",
    "    print(\"New COVID-19 positive cases in \" + state + \" today: \" + str(int(new_cases)))\n"
   ]
  },
  {
   "cell_type": "code",
   "execution_count": 5,
   "id": "canadian-darkness",
   "metadata": {},
   "outputs": [
    {
     "data": {
      "image/png": "[encoded data removed]",
      "text/plain": [
       "<Figure size 864x432 with 1 Axes>"
      ]
     },
     "metadata": {
      "needs_background": "light"
     },
     "output_type": "display_data"
    },
    {
     "name": "stdout",
     "output_type": "stream",
     "text": [
      "\n",
      "Total COVID-19 deaths in DC: 857\n",
      "New COVID-19 deaths in DC in the past day: 7\n"
     ]
    }
   ],
   "source": [
    "# We can also look at death counts, using Washington DC as an example\n",
    "\n",
    "state = 'DC'\n",
    "metric = 'death'\n",
    "\n",
    "ctp.ShowCovidTracking(state, metric, update_first=False)\n",
    "\n",
    "# get state data\n",
    "idx_state = df.state == state\n",
    "df_current_state = df[idx_state].copy()\n",
    "    \n",
    "# Calculate new and total cases\n",
    "new_cases = df_current_state[metric][0] - df_current_state[metric][1]\n",
    "total_cases = df_current_state[metric][0]\n",
    "\n",
    "\n",
    "# Print the number of cases for the metric    \n",
    "if metric == \"death\":\n",
    "    print(\"\\nTotal COVID-19 deaths in \" + state + \": \" + str(int(df_current_state[metric][0])))\n",
    "    print(\"New COVID-19 deaths in \" + state + \" in the past day: \" + str(int(new_cases)))\n",
    "else:\n",
    "    print(\"\\nTotal COVID-19 positive cases in \" + state + \": \" + str(int(df_current_state[metric][0])))\n",
    "    print(\"New COVID-19 positive cases in \" + state + \" today: \" + str(int(new_cases)))"
   ]
  },
  {
   "cell_type": "markdown",
   "id": "outer-prison",
   "metadata": {},
   "source": [
    "***Predicting Future Death Tolls for Massachusetts with Polynomial Regression***\n",
    "\n",
    "I use a polynomial regression model to predict what the death total in Massachusetts will be if positive test totals reach 500k, 1 million, and 5 million. This could be adjusted for any state, I just chose MA because this is where I grew up. "
   ]
  },
  {
   "cell_type": "code",
   "execution_count": 6,
   "id": "under-supplier",
   "metadata": {},
   "outputs": [
    {
     "data": {
      "text/html": [
       "<div>\n",
       "<style scoped>\n",
       "    .dataframe tbody tr th:only-of-type {\n",
       "        vertical-align: middle;\n",
       "    }\n",
       "\n",
       "    .dataframe tbody tr th {\n",
       "        vertical-align: top;\n",
       "    }\n",
       "\n",
       "    .dataframe thead th {\n",
       "        text-align: right;\n",
       "    }\n",
       "</style>\n",
       "<table border=\"1\" class=\"dataframe\">\n",
       "  <thead>\n",
       "    <tr style=\"text-align: right;\">\n",
       "      <th></th>\n",
       "      <th>state</th>\n",
       "      <th>positive</th>\n",
       "      <th>death</th>\n",
       "    </tr>\n",
       "    <tr>\n",
       "      <th>date</th>\n",
       "      <th></th>\n",
       "      <th></th>\n",
       "      <th></th>\n",
       "    </tr>\n",
       "  </thead>\n",
       "  <tbody>\n",
       "    <tr>\n",
       "      <th>2021-01-18</th>\n",
       "      <td>MA</td>\n",
       "      <td>473441.0</td>\n",
       "      <td>13705.0</td>\n",
       "    </tr>\n",
       "    <tr>\n",
       "      <th>2021-01-17</th>\n",
       "      <td>MA</td>\n",
       "      <td>470140.0</td>\n",
       "      <td>13652.0</td>\n",
       "    </tr>\n",
       "    <tr>\n",
       "      <th>2021-01-16</th>\n",
       "      <td>MA</td>\n",
       "      <td>465726.0</td>\n",
       "      <td>13583.0</td>\n",
       "    </tr>\n",
       "    <tr>\n",
       "      <th>2021-01-15</th>\n",
       "      <td>MA</td>\n",
       "      <td>459927.0</td>\n",
       "      <td>13509.0</td>\n",
       "    </tr>\n",
       "    <tr>\n",
       "      <th>2021-01-14</th>\n",
       "      <td>MA</td>\n",
       "      <td>454402.0</td>\n",
       "      <td>13433.0</td>\n",
       "    </tr>\n",
       "  </tbody>\n",
       "</table>\n",
       "</div>"
      ],
      "text/plain": [
       "           state  positive    death\n",
       "date                               \n",
       "2021-01-18    MA  473441.0  13705.0\n",
       "2021-01-17    MA  470140.0  13652.0\n",
       "2021-01-16    MA  465726.0  13583.0\n",
       "2021-01-15    MA  459927.0  13509.0\n",
       "2021-01-14    MA  454402.0  13433.0"
      ]
     },
     "execution_count": 6,
     "metadata": {},
     "output_type": "execute_result"
    }
   ],
   "source": [
    "# Start by extracting the data for the desired state\n",
    "\n",
    "state = 'MA'\n",
    "\n",
    "# get state data\n",
    "idx_state = df.state == state\n",
    "df_current_state = df[idx_state].copy()\n",
    "\n",
    "df_current_state.head(5)"
   ]
  },
  {
   "cell_type": "code",
   "execution_count": 7,
   "id": "current-graduate",
   "metadata": {},
   "outputs": [],
   "source": [
    "# We are going to use the amount of positive test cases to predcit how many will die if tht=at number is reached\n",
    "features = df_current_state['positive'][0:180] # use past 6 months for data\n",
    "targets = df_current_state['death'][0:180]\n",
    "\n",
    "# Training and Testing Splits\n",
    "from sklearn.model_selection import train_test_split as tts\n",
    "X_train, X_test, ytrain, ytest = tts(features, targets, test_size=0.4)\n"
   ]
  },
  {
   "cell_type": "code",
   "execution_count": 8,
   "id": "soviet-shopping",
   "metadata": {},
   "outputs": [
    {
     "name": "stdout",
     "output_type": "stream",
     "text": [
      "Internal Validity (R^2): 0.988\n",
      "External Validity (R^2): 0.974\n"
     ]
    }
   ],
   "source": [
    "# Scale features\n",
    "from sklearn.preprocessing import PolynomialFeatures\n",
    "poly = PolynomialFeatures(degree=3)\n",
    "Xtrain = poly.fit_transform(X_train.values.reshape(-1,1))\n",
    "Xtest = poly.transform(X_test.values.reshape(-1,1))\n",
    "\n",
    "# Perform linear regression\n",
    "from sklearn.linear_model import LinearRegression as LR\n",
    "lin_reg = LR()\n",
    "lin_reg.fit(Xtrain, ytrain)\n",
    "\n",
    "# Now compare the scores on the training and testing sets:\n",
    "print('Internal Validity (R^2): ' + format(lin_reg.score(Xtrain, ytrain), '.3f'))\n",
    "print('External Validity (R^2): ' + format(lin_reg.score(Xtest, ytest), '.3f'))"
   ]
  },
  {
   "cell_type": "code",
   "execution_count": 9,
   "id": "dried-developer",
   "metadata": {},
   "outputs": [],
   "source": [
    "# What if we reach 500,000 positive tests? 1,000,000? 5,000,000?\n",
    "prediction_vals = np.array([500000, 1000000, 5000000])\n",
    "pred_vals = poly.transform(prediction_vals.reshape(-1,1))\n",
    "x = lin_reg.predict(pred_vals)"
   ]
  },
  {
   "cell_type": "code",
   "execution_count": 10,
   "id": "fifteen-history",
   "metadata": {},
   "outputs": [
    {
     "name": "stdout",
     "output_type": "stream",
     "text": [
      "Predicted death toll at 500,000 cases  :  14571\n",
      "Predicted death toll at 1,000,000 cases:  76104\n",
      "Predicted death toll at 5,000,000 cases:  18099912\n"
     ]
    }
   ],
   "source": [
    "print(\"Predicted death toll at 500,000 cases  : \", int(x[0]))\n",
    "print(\"Predicted death toll at 1,000,000 cases: \", int(x[1]))\n",
    "print(\"Predicted death toll at 5,000,000 cases: \", int(x[2]))"
   ]
  },
  {
   "cell_type": "code",
   "execution_count": 11,
   "id": "present-mills",
   "metadata": {},
   "outputs": [
    {
     "data": {
      "image/png": "[encoded data removed]",
      "text/plain": [
       "<Figure size 864x432 with 1 Axes>"
      ]
     },
     "metadata": {
      "needs_background": "light"
     },
     "output_type": "display_data"
    }
   ],
   "source": [
    "# We can make a graph for what will happen over 500,000 cases\n",
    "\n",
    "new_points = np.arange(0, 1000000, 1000)\n",
    "points = poly.transform(new_points.reshape(-1,1))\n",
    "pred_points = lin_reg.predict(points)\n",
    "\n",
    "plt.figure(figsize=(12,6))\n",
    "plt.plot(points[:,1], pred_points, color='blue', label=\"Prediction\")\n",
    "plt.plot(df_current_state['positive'], df_current_state['death'], color='red', label = 'Actual')\n",
    "plt.legend()\n",
    "plt.ylabel(\"Number of deaths\")\n",
    "plt.xlabel(\"Number of positive cases (in Millions)\")\n",
    "plt.title(\"Predicted number of deaths in \" + state + \" for different positive test totals\")\n",
    "plt.show()"
   ]
  },
  {
   "cell_type": "markdown",
   "id": "criminal-leadership",
   "metadata": {},
   "source": [
    "**Quick Conclusion (Regression)**\n",
    "\n",
    "The graph highlights that if nothing changes, this is going to continue to get out of control very fast. Luckily there is some hope with the vaccine just starting to be distributed (at the time of me writing this), but that seems to be the only hope we have based on the path we have been taking so far. \n",
    "\n",
    "This is by no means a perfect analysis. The next step is to do a time series analysis. This will give more insight to how long it would take to reach different milestones, such as 500,000 or 1,000,000 positive test cases in MA. "
   ]
  },
  {
   "cell_type": "markdown",
   "id": "appropriate-european",
   "metadata": {},
   "source": [
    "***Neural Network Prediction***\n",
    "\n",
    "Functioning as an exploratory introduction to time series analysis"
   ]
  },
  {
   "cell_type": "code",
   "execution_count": 12,
   "id": "appreciated-smoke",
   "metadata": {},
   "outputs": [],
   "source": [
    "import numpy as np\n",
    "\n",
    "# Isolate death data for predictiions\n",
    "training_set = df_current_state['death'].values\n",
    "\n",
    "# scale the data\n",
    "from sklearn.preprocessing import MinMaxScaler\n",
    "sc = MinMaxScaler()\n",
    "training_set_scaled = sc.fit_transform(training_set.reshape(-1,1))"
   ]
  },
  {
   "cell_type": "code",
   "execution_count": 13,
   "id": "middle-milan",
   "metadata": {},
   "outputs": [],
   "source": [
    "# Create trainging set for features and labels\n",
    "features = []\n",
    "labels = []\n",
    "\n",
    "for i in range(30,240):\n",
    "    features.append(training_set_scaled[i:i+10])\n",
    "    labels.append(training_set_scaled[i])\n",
    "    \n",
    "features = np.array(features)\n",
    "labels = np.array(labels)\n",
    "\n",
    "features = np.reshape(features, (features.shape[0], features.shape[1], 1))"
   ]
  },
  {
   "cell_type": "markdown",
   "id": "sufficient-flower",
   "metadata": {},
   "source": [
    "**Building the Model**"
   ]
  },
  {
   "cell_type": "code",
   "execution_count": 14,
   "id": "variable-greene",
   "metadata": {},
   "outputs": [],
   "source": [
    "# Import libraries (May need to install two packages below with the commented commands)\n",
    "#%pip install keras\n",
    "#%pip install tensorflow\n",
    "import keras\n",
    "from keras.models import Sequential\n",
    "from keras.layers import Dense\n",
    "from keras.layers import LSTM\n",
    "from keras.layers import Dropout"
   ]
  },
  {
   "cell_type": "code",
   "execution_count": 15,
   "id": "floppy-volunteer",
   "metadata": {},
   "outputs": [],
   "source": [
    "# Create the model\n",
    "model = Sequential()\n",
    "\n",
    "model.add(LSTM(units=50, return_sequences=True, input_shape=(features.shape[1], 1)))\n",
    "model.add(Dropout(0.2)) # prevent overfitting\n",
    "\n",
    "model.add(LSTM(units=50, input_shape=(features.shape[1], 1)))\n",
    "model.add(Dropout(0.2))\n",
    "\n",
    "model.add(Dense(units=1))"
   ]
  },
  {
   "cell_type": "code",
   "execution_count": 16,
   "id": "vocational-director",
   "metadata": {},
   "outputs": [
    {
     "name": "stdout",
     "output_type": "stream",
     "text": [
      "Epoch 1/50\n",
      "18/18 [==============================] - 4s 15ms/step - loss: 0.2486\n",
      "Epoch 2/50\n",
      "18/18 [==============================] - 0s 21ms/step - loss: 0.0116\n",
      "Epoch 3/50\n",
      "18/18 [==============================] - 0s 18ms/step - loss: 0.0078\n",
      "Epoch 4/50\n",
      "18/18 [==============================] - 0s 18ms/step - loss: 0.0045\n",
      "Epoch 5/50\n",
      "18/18 [==============================] - 0s 17ms/step - loss: 0.0048\n",
      "Epoch 6/50\n",
      "18/18 [==============================] - 0s 18ms/step - loss: 0.0054\n",
      "Epoch 7/50\n",
      "18/18 [==============================] - 0s 18ms/step - loss: 0.0045\n",
      "Epoch 8/50\n",
      "18/18 [==============================] - 0s 18ms/step - loss: 0.0044\n",
      "Epoch 9/50\n",
      "18/18 [==============================] - 0s 18ms/step - loss: 0.0048\n",
      "Epoch 10/50\n",
      "18/18 [==============================] - 0s 18ms/step - loss: 0.0044\n",
      "Epoch 11/50\n",
      "18/18 [==============================] - 0s 18ms/step - loss: 0.0035\n",
      "Epoch 12/50\n",
      "18/18 [==============================] - 0s 20ms/step - loss: 0.0046\n",
      "Epoch 13/50\n",
      "18/18 [==============================] - 0s 18ms/step - loss: 0.0036\n",
      "Epoch 14/50\n",
      "18/18 [==============================] - 0s 21ms/step - loss: 0.0037\n",
      "Epoch 15/50\n",
      "18/18 [==============================] - 0s 18ms/step - loss: 0.0029\n",
      "Epoch 16/50\n",
      "18/18 [==============================] - 0s 18ms/step - loss: 0.0040\n",
      "Epoch 17/50\n",
      "18/18 [==============================] - 0s 21ms/step - loss: 0.0043\n",
      "Epoch 18/50\n",
      "18/18 [==============================] - 0s 19ms/step - loss: 0.0028\n",
      "Epoch 19/50\n",
      "18/18 [==============================] - 0s 19ms/step - loss: 0.0028\n",
      "Epoch 20/50\n",
      "18/18 [==============================] - 0s 17ms/step - loss: 0.0031\n",
      "Epoch 21/50\n",
      "18/18 [==============================] - 0s 18ms/step - loss: 0.0034\n",
      "Epoch 22/50\n",
      "18/18 [==============================] - 0s 18ms/step - loss: 0.0027\n",
      "Epoch 23/50\n",
      "18/18 [==============================] - 0s 18ms/step - loss: 0.0034\n",
      "Epoch 24/50\n",
      "18/18 [==============================] - 0s 18ms/step - loss: 0.0028\n",
      "Epoch 25/50\n",
      "18/18 [==============================] - 0s 17ms/step - loss: 0.0026\n",
      "Epoch 26/50\n",
      "18/18 [==============================] - 0s 21ms/step - loss: 0.0028\n",
      "Epoch 27/50\n",
      "18/18 [==============================] - 0s 18ms/step - loss: 0.0027\n",
      "Epoch 28/50\n",
      "18/18 [==============================] - 0s 18ms/step - loss: 0.0039\n",
      "Epoch 29/50\n",
      "18/18 [==============================] - 0s 20ms/step - loss: 0.0048\n",
      "Epoch 30/50\n",
      "18/18 [==============================] - 0s 19ms/step - loss: 0.0027\n",
      "Epoch 31/50\n",
      "18/18 [==============================] - 0s 16ms/step - loss: 0.0035\n",
      "Epoch 32/50\n",
      "18/18 [==============================] - 0s 18ms/step - loss: 0.0033\n",
      "Epoch 33/50\n",
      "18/18 [==============================] - 0s 18ms/step - loss: 0.0028\n",
      "Epoch 34/50\n",
      "18/18 [==============================] - 0s 18ms/step - loss: 0.0029\n",
      "Epoch 35/50\n",
      "18/18 [==============================] - 0s 18ms/step - loss: 0.0023\n",
      "Epoch 36/50\n",
      "18/18 [==============================] - 0s 18ms/step - loss: 0.0026\n",
      "Epoch 37/50\n",
      "18/18 [==============================] - 0s 18ms/step - loss: 0.0022\n",
      "Epoch 38/50\n",
      "18/18 [==============================] - 0s 18ms/step - loss: 0.0019\n",
      "Epoch 39/50\n",
      "18/18 [==============================] - 0s 18ms/step - loss: 0.0027\n",
      "Epoch 40/50\n",
      "18/18 [==============================] - 0s 17ms/step - loss: 0.0027\n",
      "Epoch 41/50\n",
      "18/18 [==============================] - 0s 18ms/step - loss: 0.0031\n",
      "Epoch 42/50\n",
      "18/18 [==============================] - 0s 18ms/step - loss: 0.0024\n",
      "Epoch 43/50\n",
      "18/18 [==============================] - 0s 17ms/step - loss: 0.0037\n",
      "Epoch 44/50\n",
      "18/18 [==============================] - 0s 18ms/step - loss: 0.0031\n",
      "Epoch 45/50\n",
      "18/18 [==============================] - 0s 20ms/step - loss: 0.0028\n",
      "Epoch 46/50\n",
      "18/18 [==============================] - 0s 18ms/step - loss: 0.0027\n",
      "Epoch 47/50\n",
      "18/18 [==============================] - 0s 18ms/step - loss: 0.0023\n",
      "Epoch 48/50\n",
      "18/18 [==============================] - 0s 18ms/step - loss: 0.0033\n",
      "Epoch 49/50\n",
      "18/18 [==============================] - 0s 18ms/step - loss: 0.0029\n",
      "Epoch 50/50\n",
      "18/18 [==============================] - 0s 18ms/step - loss: 0.0033\n"
     ]
    },
    {
     "data": {
      "text/plain": [
       "<tensorflow.python.keras.callbacks.History at 0x7f8980f143a0>"
      ]
     },
     "execution_count": 16,
     "metadata": {},
     "output_type": "execute_result"
    }
   ],
   "source": [
    "# Compile and fit the model\n",
    "model.compile(optimizer='adam', loss='mean_squared_error')\n",
    "model.fit(features, labels, epochs=50, batch_size=12)"
   ]
  },
  {
   "cell_type": "markdown",
   "id": "reduced-bradley",
   "metadata": {},
   "source": [
    "**Predicting Death Tolls**\n",
    "\n",
    "I'll use the same range of values as with the polynomial regression from 500k cases to 1 million positive cases in MA"
   ]
  },
  {
   "cell_type": "code",
   "execution_count": 17,
   "id": "fleet-candy",
   "metadata": {},
   "outputs": [],
   "source": [
    "X_test = []\n",
    "y_test = []\n",
    "\n",
    "for i in range(0,30):\n",
    "    X_test.append(training_set_scaled[i:i+10])\n",
    "    y_test.append(training_set[i])\n",
    "    \n",
    "X_test = np.array(X_test)\n",
    "y_test = np.array(y_test)\n",
    "\n",
    "X_test = np.reshape(X_test, (X_test.shape[0], X_test.shape[1], 1))"
   ]
  },
  {
   "cell_type": "code",
   "execution_count": 18,
   "id": "viral-matter",
   "metadata": {},
   "outputs": [],
   "source": [
    "# Predict values and undo the scaling that implemented\n",
    "predicted_vals = model.predict(X_test)\n",
    "predicted_vals = sc.inverse_transform(predicted_vals)\n"
   ]
  },
  {
   "cell_type": "code",
   "execution_count": 19,
   "id": "saving-assistant",
   "metadata": {},
   "outputs": [
    {
     "data": {
      "image/png": "[encoded data removed]",
      "text/plain": [
       "<Figure size 864x432 with 1 Axes>"
      ]
     },
     "metadata": {
      "needs_background": "light"
     },
     "output_type": "display_data"
    }
   ],
   "source": [
    "# Plot the results!\n",
    "plt.figure(figsize=(12,6))\n",
    "plt.plot(df_current_state['positive'][0:30], y_test, color = 'black', label = 'Actual')\n",
    "plt.plot(df_current_state['positive'][0:30], predicted_vals, color = 'green', label = 'Predicted')\n",
    "plt.title('LSTM Results for Covid19 related deaths in ' + state)\n",
    "plt.xlabel('Positive Tests')\n",
    "plt.ylabel('Deaths')\n",
    "plt.legend()\n",
    "plt.show()\n"
   ]
  },
  {
   "cell_type": "markdown",
   "id": "civil-commission",
   "metadata": {},
   "source": [
    "***Quick Conlusion (Nerual Network)***\n",
    "\n",
    "So this is by no means a perfect model, and there are probably better and more efficient ways I could come to this conclusion or level of prediction power. I'm using this as an introduction to time series analysis where I am using previous data points to predict what the next one is. This is my first experience with this time of analysis, so the goal was just to get my hands dirty and explore a little, which I feel I have accomplished. "
   ]
  },
  {
   "cell_type": "code",
   "execution_count": null,
   "id": "exempt-address",
   "metadata": {},
   "outputs": [],
   "source": []
  }
 ],
 "metadata": {
  "kernelspec": {
   "display_name": "Python 3",
   "language": "python",
   "name": "python3"
  },
  "language_info": {
   "codemirror_mode": {
    "name": "ipython",
    "version": 3
   },
   "file_extension": ".py",
   "mimetype": "text/x-python",
   "name": "python",
   "nbconvert_exporter": "python",
   "pygments_lexer": "ipython3",
   "version": "3.8.6"
  }
 },
 "nbformat": 4,
 "nbformat_minor": 5
}
